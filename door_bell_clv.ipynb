{
 "cells": [
  {
   "cell_type": "markdown",
   "metadata": {},
   "source": [
    "## Importing Libraries\n",
    "I have imported all the necessary libraries below to help us with the analysis and determine autopay and non-autopay users CLV (Customer Lifetime Value)"
   ]
  },
  {
   "cell_type": "code",
   "execution_count": 3,
   "metadata": {},
   "outputs": [],
   "source": [
    "import pandas as pd\n",
    "import numpy as np\n",
    "import seaborn as sns\n",
    "import matplotlib.pyplot as plt"
   ]
  },
  {
   "cell_type": "markdown",
   "metadata": {},
   "source": [
    "## Enhancing the Churn DataFrame\n",
    "We are going to start with Year 2 for our customer churn rate analysis and will carry on for 8 years time period. So, for the optimised churn data, we are considering 0 churn rate for Year 1 (starting Year 2) and as we do not need last year term in calculating the churn rate as it will go towards Year 9, we will remove it."
   ]
  },
  {
   "cell_type": "code",
   "execution_count": 4,
   "metadata": {},
   "outputs": [],
   "source": [
    "churn = pd.DataFrame(\n",
    "    {\n",
    "        \"autopay\": [0,0.070, 0.097, 0.103, 0.095, 0.078, 0.069, 0.059],\n",
    "        \"no_autopay\": [0,0.122, 0.162, 0.154, 0.134, 0.120, 0.111, 0.096],\n",
    "    }\n",
    ")"
   ]
  },
  {
   "cell_type": "markdown",
   "metadata": {},
   "source": [
    "## New Churn DataFrame (churn8)\n",
    "The churn8 DataFrame will be made keeping the 8 years duration in mind. For the calculation of CLV, I am assuming that we will need to calculate factors like service cost, marketing cost and profits on a monthly basis keeping monthly discount rate in mind. Therefore, the churn8 DataFrame will be made keeping all the months in mind, so, the DataFrame will have a shape of (96,2). Initially, an empty array was made using numpy function and then converted into a DataFrame."
   ]
  },
  {
   "cell_type": "code",
   "execution_count": 5,
   "metadata": {},
   "outputs": [],
   "source": [
    "empty_array = np.zeros(shape = (96,2))\n",
    "churn8 = pd.DataFrame(empty_array, columns = [\"autopay\", \"no_autopay\"])"
   ]
  },
  {
   "cell_type": "markdown",
   "metadata": {},
   "source": [
    "## Updating the DataFrame with churn values\n",
    "In the first step, I created an empty list with the range and length of churn DataFrame. After that, I initiated an Index which will further be update with the churn values for respective months into the churn8 DataFrame. Finally, using the loc function, the churn values were updated into the list location inside the churn8 DataFrame. The final DataFrame has churn value for all the months for all 8 years."
   ]
  },
  {
   "cell_type": "code",
   "execution_count": 6,
   "metadata": {},
   "outputs": [],
   "source": [
    "a_list = list(range(len(churn)))\n",
    "multiplied_list = [element * 12 for element in a_list]\n",
    "multiplied_list\n",
    "\n",
    "churn8.loc[multiplied_list] = churn.values"
   ]
  },
  {
   "cell_type": "markdown",
   "metadata": {},
   "source": [
    "### List assumptions that apply to both autopay and non-autopay customers"
   ]
  },
  {
   "cell_type": "markdown",
   "metadata": {},
   "source": [
    "## Assumptions\n",
    "As the initial RMR is almost same for both autopay and no-autopay customers, we will consider RMR same for both of them. Keeping the general rate increase in mind, I decided to take monthly revenue as 40 (given) for the First Year and kept on icreasing it by annual growth rate (given) for every year. The monthly discount rate was calculated using the formula (1 + annual discount rate) ^ (1/12) - 1. Cost of Service and the Marketing Cost is calculated as 15% and 5% of the monthly revenue respectively. Number of years will be 8 years. All the varaibles were defined for the calculation of CLV."
   ]
  },
  {
   "cell_type": "code",
   "execution_count": 8,
   "metadata": {},
   "outputs": [],
   "source": [
    "# list your assumptions here\n",
    "monthly_revenue = 40\n",
    "annual_growth = 0.03\n",
    "annual_discount_rate = 0.1\n",
    "monthly_discount_rate = (1+annual_discount_rate)**(1/12)-1\n",
    "cost_service = 0.15*monthly_revenue\n",
    "marketing_cost = 0.05*monthly_revenue\n",
    "nr_years = 8"
   ]
  },
  {
   "cell_type": "markdown",
   "metadata": {
    "tags": []
   },
   "source": [
    "### Calculate CLV for non-autopay customers"
   ]
  },
  {
   "cell_type": "markdown",
   "metadata": {},
   "source": [
    "## Retention\n",
    "\n",
    "Retention revenue was created by using numoy array. The numpy array had the values of the ptobability of peoplebeing active ( 1 - churn values (from churn8). Furthermore, cumprod function was used to find out the cumulative products of the churn."
   ]
  },
  {
   "cell_type": "code",
   "execution_count": 9,
   "metadata": {},
   "outputs": [],
   "source": [
    "# create an array with shape (96,) with retention rates \n",
    "# _nap stands for 'non-autopay'\n",
    "\n",
    "retention_nap = np.array(1-churn8.iloc[:, 1])\n",
    "retention_nap = retention_nap.cumprod()"
   ]
  },
  {
   "cell_type": "markdown",
   "metadata": {},
   "source": [
    "## Revenue \n",
    "\n",
    "revenue for every month was calculated by creating an empty array and running a loop over it. The logic defined increased the monthly revenue at the end of the Year and kept it same for the next 12 months."
   ]
  },
  {
   "cell_type": "code",
   "execution_count": 10,
   "metadata": {},
   "outputs": [],
   "source": [
    "array0 = np.ones(96,)"
   ]
  },
  {
   "cell_type": "code",
   "execution_count": 11,
   "metadata": {},
   "outputs": [],
   "source": [
    "for i in range(len(array0)):\n",
    "    if i in range(0,12):\n",
    "        array0[i] = 40\n",
    "        continue\n",
    "    if i%12 == 0: \n",
    "        array0[i] = array0[i-1] * (1 + annual_growth)\n",
    "    else:\n",
    "        array0[i] = array0[i-1]\n",
    "        \n"
   ]
  },
  {
   "cell_type": "markdown",
   "metadata": {},
   "source": [
    "## Present Value of the Expected Profit and CLV\n",
    "As the discount rate will apply on the profit on the monthly basis, I created an array of size (96,) and ran a for loop over it defining the implication of the monthly discounted rate on the expected profit and updated the monthly values inside the array which we created. The CLV of the non-autopay users were calculated using the cumsum function which gave us the final customer lifetime value of a customer (8 years term) who does not use autopay feature."
   ]
  },
  {
   "cell_type": "code",
   "execution_count": 13,
   "metadata": {},
   "outputs": [],
   "source": [
    "revenues_nap = array0\n",
    "service_nap = 0.15*revenues_nap\n",
    "marketing_nap = 0.05*revenues_nap\n",
    "profit_nap = revenues_nap - service_nap - marketing_nap\n",
    "expected_profit_nap = retention_nap * profit_nap\n",
    "\n",
    "pv_expected_profit_nap = np.ones(96,)\n",
    "for i in range(len(expected_profit_nap)):\n",
    "    pv_expected_profit_nap[i] = expected_profit_nap[i]/(1+monthly_discount_rate)**(i+1)\n",
    "\n",
    "\n",
    "pv_expected_profit_nap = pv_expected_profit_nap# present value of expected profits\n",
    "clv_nap = np.cumsum(pv_expected_profit_nap)"
   ]
  },
  {
   "cell_type": "markdown",
   "metadata": {},
   "source": [
    "### Calculate CLV for autopay customers"
   ]
  },
  {
   "cell_type": "markdown",
   "metadata": {},
   "source": [
    "The CLV for autopay users was calculated just like the non-autopay users. The only difference being, for the retention_ap, we used the other column which had the retention rates for evert months of autopay users."
   ]
  },
  {
   "cell_type": "code",
   "execution_count": 14,
   "metadata": {},
   "outputs": [],
   "source": [
    "# created an array with shape (96,) with retention rates \n",
    "# _ap stands for 'autopay'\n",
    "\n",
    "retention_ap = np.array(1-churn8.iloc[:, 0])\n",
    "retention_ap= retention_ap.cumprod()"
   ]
  },
  {
   "cell_type": "code",
   "execution_count": 15,
   "metadata": {},
   "outputs": [],
   "source": [
    "array1 = np.ones(96,)"
   ]
  },
  {
   "cell_type": "code",
   "execution_count": 16,
   "metadata": {},
   "outputs": [],
   "source": [
    "for i in range(len(array1)):\n",
    "    if i in range(0,12):\n",
    "        array1[i] = 40\n",
    "        continue\n",
    "    if i%12 == 0: \n",
    "        array1[i] = array1[i-1] * (1 + annual_growth)\n",
    "    else:\n",
    "        array1[i] = array1[i-1]"
   ]
  },
  {
   "cell_type": "code",
   "execution_count": 17,
   "metadata": {},
   "outputs": [],
   "source": [
    "revenues_ap = array1\n",
    "service_ap = 0.15*revenues_ap\n",
    "marketing_ap = 0.05*revenues_ap\n",
    "profit_ap = revenues_ap - service_ap - marketing_ap\n",
    "expected_profit_ap = retention_ap * profit_ap\n",
    "\n",
    "pv_expected_profit_ap = np.ones(96,)\n",
    "for i in range(len(expected_profit_ap)):\n",
    "    pv_expected_profit_ap[i] = expected_profit_ap[i]/(1+monthly_discount_rate)**(i+1)\n",
    "\n",
    "\n",
    "pv_expected_profit_ap = pv_expected_profit_ap# present value of expected profits\n",
    "clv_ap = np.cumsum(pv_expected_profit_ap)\n"
   ]
  },
  {
   "cell_type": "code",
   "execution_count": 35,
   "metadata": {
    "scrolled": true
   },
   "outputs": [
    {
     "data": {
      "text/plain": [
       "Time            96.000000\n",
       "autopay       1803.660201\n",
       "no_autopay    1553.722933\n",
       "Name: 95, dtype: float64"
      ]
     },
     "execution_count": 35,
     "metadata": {},
     "output_type": "execute_result"
    }
   ],
   "source": [
    "time = np.arange(1,97)\n",
    "\n",
    "homealarm = pd.DataFrame(\n",
    "    {\"Time\": time, \"autopay\": clv_ap, \"no_autopay\": clv_nap}\n",
    ")\n",
    "\n",
    "homealarm.iloc[-1]"
   ]
  },
  {
   "cell_type": "markdown",
   "metadata": {},
   "source": [
    "CLV for AutoPay Users: 1803.660201"
   ]
  },
  {
   "cell_type": "markdown",
   "metadata": {},
   "source": [
    "CLV for Non-AutoPay Users: 1553.722933"
   ]
  },
  {
   "cell_type": "markdown",
   "metadata": {},
   "source": [
    "### Create a line graph of CLV for both autopay and non-autopay customers "
   ]
  },
  {
   "cell_type": "code",
   "execution_count": 30,
   "metadata": {},
   "outputs": [
    {
     "data": {
      "text/plain": [
       "<matplotlib.legend.Legend at 0x242933c0d60>"
      ]
     },
     "execution_count": 30,
     "metadata": {},
     "output_type": "execute_result"
    },
    {
     "data": {
      "image/png": "[encoded data removed]",
      "text/plain": [
       "<Figure size 432x288 with 1 Axes>"
      ]
     },
     "metadata": {
      "needs_background": "light"
     },
     "output_type": "display_data"
    }
   ],
   "source": [
    "# created a single plot with 2-lines\n",
    "a = plt.plot(homealarm[\"no_autopay\"], label=\"No-Autopay\")\n",
    "a = plt.plot(homealarm[\"autopay\"], label=\"Autopay\")\n",
    "plt.legend()"
   ]
  },
  {
   "cell_type": "markdown",
   "metadata": {},
   "source": [
    "### Create a line graph of the retention rate for both autopay and non-autopay customer "
   ]
  },
  {
   "cell_type": "code",
   "execution_count": 31,
   "metadata": {},
   "outputs": [
    {
     "data": {
      "text/plain": [
       "<matplotlib.legend.Legend at 0x2429344c0d0>"
      ]
     },
     "execution_count": 31,
     "metadata": {},
     "output_type": "execute_result"
    },
    {
     "data": {
      "image/png": "[encoded data removed]",
      "text/plain": [
       "<Figure size 432x288 with 1 Axes>"
      ]
     },
     "metadata": {
      "needs_background": "light"
     },
     "output_type": "display_data"
    }
   ],
   "source": [
    "# created a single plot with 2-lines\n",
    "b = plt.plot(retention_ap, label=\"Autopay\")\n",
    "b = plt.plot(retention_nap, label=\"No-Autopay\")\n",
    "plt.legend()"
   ]
  },
  {
   "cell_type": "markdown",
   "metadata": {},
   "source": [
    "### Calculate the maximum amount to spend on autopay incentives"
   ]
  },
  {
   "cell_type": "code",
   "execution_count": 21,
   "metadata": {},
   "outputs": [
    {
     "name": "stdout",
     "output_type": "stream",
     "text": [
      "Maxium amount to spend on autopay incentives is 249.94\n"
     ]
    }
   ],
   "source": [
    "max_pay = homealarm[\"autopay\"][95] - homealarm[\"no_autopay\"][95]\n",
    "print(f\"Maxium amount to spend on autopay incentives is {max_pay.round(2)}\")"
   ]
  },
  {
   "cell_type": "markdown",
   "metadata": {},
   "source": [
    "### Suggested marketing actions\n",
    "\n",
    "Suggest two marketing actions Door Bell should consider to convert existing customers to autopay who are about to start their second year with Home Alarm. Be specific about incentive amounts you recommend using (if any)"
   ]
  },
  {
   "cell_type": "markdown",
   "metadata": {},
   "source": [
    "1. Door Bell can offer free 30 USD worth of days in its subscription for non-autopay customers who switch to autopay cutomers. For every year they complete under the autopay contract, they will recieve suitable number of days free corresponding to the dollar value of 30 USD. This strategy will help us in convincing the non-autopay customers to switch to autopay customers and also help us in retaining them. The total cost for this marketing campaign will come around to be (30 X 8) = 240 USD, which is less then the autopay incentives.\n",
    "\n",
    "2. Door Bell can also offer special priviledges to autopay customers which can cost less that 249.94 USD. For instance, Home Alarm can offer an additional feature into its alarm system which can may offer its client 24/7 survilliece by the employyes of Home Alarm. This gives additional security to its users. This additional feature might be able to convince non-autopay customer to switch to autopay customers."
   ]
  },
  {
   "cell_type": "code",
   "execution_count": null,
   "metadata": {},
   "outputs": [],
   "source": []
  }
 ],
 "metadata": {
  "jupytext": {
   "formats": "ipynb,py:percent"
  },
  "kernelspec": {
   "display_name": "Python 3 (ipykernel)",
   "language": "python",
   "name": "python3"
  },
  "language_info": {
   "codemirror_mode": {
    "name": "ipython",
    "version": 3
   },
   "file_extension": ".py",
   "mimetype": "text/x-python",
   "name": "python",
   "nbconvert_exporter": "python",
   "pygments_lexer": "ipython3",
   "version": "3.9.7"
  }
 },
 "nbformat": 4,
 "nbformat_minor": 4
}
